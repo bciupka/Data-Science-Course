{
 "cells": [
  {
   "cell_type": "markdown",
   "metadata": {},
   "source": [
    "# Nagłówek 1 - H1\n",
    "## Podrozdział - H2\n",
    "tekst\n",
    "- punkt\n",
    "* punkt\n",
    "+ punkt\n",
    "1. numer\n",
    "2. numer\n",
    "*ważne!!!*\n",
    "**bardzo ważne!!!**\n",
    "_oohoho_ __OOOO__\n",
    "\n",
    "[zoba tera](https://www.youtube.com/)\n",
    "\n",
    "\n",
    "![Alternate Text](.\\omega.jpg)\n",
    "\n",
    "![OOO](https://numpy.org/images/logos/numpy.svg)\n",
    "\n",
    "    for i in range(j):\n",
    "        print(i)\n",
    "\n",
    "\n",
    "2\\*2\\*2"
   ]
  },
  {
   "cell_type": "code",
   "execution_count": null,
   "metadata": {},
   "outputs": [],
   "source": []
  }
 ],
 "metadata": {
  "kernelspec": {
   "display_name": "Python 3",
   "language": "python",
   "name": "python3"
  },
  "language_info": {
   "codemirror_mode": {
    "name": "ipython",
    "version": 3
   },
   "file_extension": ".py",
   "mimetype": "text/x-python",
   "name": "python",
   "nbconvert_exporter": "python",
   "pygments_lexer": "ipython3",
   "version": "3.8.5"
  }
 },
 "nbformat": 4,
 "nbformat_minor": 4
}
