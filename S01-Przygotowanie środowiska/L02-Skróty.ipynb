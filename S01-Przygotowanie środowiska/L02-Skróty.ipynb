{
 "cells": [
  {
   "cell_type": "code",
   "execution_count": null,
   "metadata": {},
   "outputs": [],
   "source": [
    "# Shift + Enter - Kompilacja\n",
    "# Esc - Tryb komend\n",
    "# b - tworzy linie poniżej, a - powyżej, dd - usuwa linie WSZYSTKO W TRYBIE KOMEND"
   ]
  },
  {
   "cell_type": "markdown",
   "metadata": {},
   "source": [
    "# markdown - m\n",
    "# # - nagłówek 1\n",
    "# y - code\n",
    "# x - cut\n",
    "# v - wklejenie"
   ]
  },
  {
   "cell_type": "markdown",
   "metadata": {},
   "source": [
    "# Shift + m - merge\n",
    "# Ctrl + shift + '-' - separate\n",
    "# o - chowa output/pokazuje\n",
    "# l - nadaje numer\n",
    "# Shift + L - number dla całego kodu"
   ]
  },
  {
   "cell_type": "markdown",
   "metadata": {},
   "source": [
    "Ctrl + Shift + F - lista poleceń\n",
    "H - Help!!!"
   ]
  },
  {
   "cell_type": "code",
   "execution_count": null,
   "metadata": {},
   "outputs": [],
   "source": []
  }
 ],
 "metadata": {
  "kernelspec": {
   "display_name": "Python 3",
   "language": "python",
   "name": "python3"
  },
  "language_info": {
   "codemirror_mode": {
    "name": "ipython",
    "version": 3
   },
   "file_extension": ".py",
   "mimetype": "text/x-python",
   "name": "python",
   "nbconvert_exporter": "python",
   "pygments_lexer": "ipython3",
   "version": "3.8.5"
  }
 },
 "nbformat": 4,
 "nbformat_minor": 4
}
